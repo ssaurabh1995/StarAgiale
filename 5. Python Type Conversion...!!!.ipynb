{
 "cells": [
  {
   "cell_type": "markdown",
   "id": "ad114281",
   "metadata": {},
   "source": [
    "# Python Type Conversion\n",
    "\n",
    "In this segment, we will learn about the Python Type conversion with the help of examples.\n",
    "\n",
    "In programming, type conversion is the process of converting data of one type to another. \n",
    "For example: converting int data to str.\n",
    "\n",
    "There are two types of type conversion in Python.\n",
    "\n",
    "1. Implicit Conversion - automatic type conversion\n",
    "\n",
    "2. Explicit Conversion - manual type conversion\n"
   ]
  },
  {
   "cell_type": "markdown",
   "id": "55ca61b7",
   "metadata": {},
   "source": [
    "# Python Implicit Type Conversion\n",
    "\n",
    "In certain situations, Python automatically converts one data type to another. This is known as implicit type conversion.\n",
    "\n",
    "Example 1: Converting integer to float\n",
    "    \n",
    "Let's see an example where Python promotes the conversion of the lower data type (integer) \n",
    "to the higher data type (float) to avoid data loss."
   ]
  },
  {
   "cell_type": "code",
   "execution_count": 1,
   "id": "03a4a2b5",
   "metadata": {},
   "outputs": [
    {
     "name": "stdout",
     "output_type": "stream",
     "text": [
      "Value: 124.23\n",
      "Data Type: <class 'float'>\n"
     ]
    }
   ],
   "source": [
    "integer_number = 123\n",
    "float_number = 1.23\n",
    "\n",
    "new_number = integer_number + float_number\n",
    "\n",
    "# display new value and resulting data type\n",
    "print(\"Value:\",new_number)\n",
    "print(\"Data Type:\",type(new_number))"
   ]
  },
  {
   "cell_type": "markdown",
   "id": "ed38a0b8",
   "metadata": {},
   "source": [
    "In the above example, we have created two variables: integer_number and float_number of int and float type respectively.\n",
    "\n",
    "Then we added these two variables and stored the result in new_number.\n",
    "\n",
    "As we can see new_number has value 124.23 and is of the float data type.\n",
    "\n",
    "It is because Python always converts smaller data types to larger data types to avoid the loss of data."
   ]
  },
  {
   "cell_type": "markdown",
   "id": "475cf395",
   "metadata": {},
   "source": [
    "Note:\n",
    "\n",
    "We get TypeError, if we try to add str and int. For example, '12' + 23. \n",
    "Python is not able to use Implicit Conversion in such conditions.\n",
    "\n",
    "Python has a solution for these types of situations which is known as Explicit Conversion."
   ]
  },
  {
   "cell_type": "markdown",
   "id": "dd859c09",
   "metadata": {},
   "source": [
    "# Explicit Type Conversion"
   ]
  },
  {
   "cell_type": "markdown",
   "id": "e22d11bf",
   "metadata": {},
   "source": [
    "In Explicit Type Conversion, users convert the data type of an object to required data type.\n",
    "\n",
    "We use the built-in functions like int(), float(), str(), etc to perform explicit type conversion.\n",
    "\n",
    "This type of conversion is also called typecasting because the user casts (changes) the data type of the objects.\n",
    "\n",
    "# Example 2: Addition of string and integer Using Explicit Conversion"
   ]
  },
  {
   "cell_type": "code",
   "execution_count": 2,
   "id": "47a8c028",
   "metadata": {},
   "outputs": [
    {
     "name": "stdout",
     "output_type": "stream",
     "text": [
      "Data type of num_string before Type Casting: <class 'str'>\n",
      "Data type of num_string after Type Casting: <class 'int'>\n",
      "Sum: 35\n",
      "Data type of num_sum: <class 'int'>\n"
     ]
    }
   ],
   "source": [
    "num_string = '12'\n",
    "num_integer = 23\n",
    "\n",
    "print(\"Data type of num_string before Type Casting:\",type(num_string))\n",
    "\n",
    "# explicit type conversion\n",
    "num_string = int(num_string)\n",
    "\n",
    "print(\"Data type of num_string after Type Casting:\",type(num_string))\n",
    "\n",
    "num_sum = num_integer + num_string\n",
    "\n",
    "print(\"Sum:\",num_sum)\n",
    "print(\"Data type of num_sum:\",type(num_sum))"
   ]
  },
  {
   "cell_type": "markdown",
   "id": "177dc0bb",
   "metadata": {},
   "source": [
    "In the above example, we have created two variables: num_string and num_integer with str and int type values respectively. \n",
    "    \n",
    "Notice the code,\n",
    "\n",
    "num_string = int(num_string)\n",
    "\n",
    "Here, \n",
    "\n",
    "we have used int() to perform explicit type conversion of num_string to integer type.\n",
    "\n",
    "After converting num_string to an integer value, Python is able to add these two variables.\n",
    "\n",
    "Finally, we got the num_sum value i.e 35 and data type to be int."
   ]
  },
  {
   "cell_type": "markdown",
   "id": "2862184f",
   "metadata": {},
   "source": [
    "# Key Points to Remember\n",
    "\n",
    "1. Type Conversion is the conversion of an object from one data type to another data type.\n",
    "\n",
    "2. Implicit Type Conversion is automatically performed by the Python interpreter.\n",
    "\n",
    "3. Python avoids the loss of data in Implicit Type Conversion.\n",
    "\n",
    "4. Explicit Type Conversion is also called Type Casting, \n",
    "   the data types of objects are converted using predefined functions by the user.\n",
    "\n",
    "5. In Type Casting, loss of data may occur as we enforce the object to a specific data type."
   ]
  },
  {
   "cell_type": "code",
   "execution_count": null,
   "id": "328c426c",
   "metadata": {},
   "outputs": [],
   "source": []
  }
 ],
 "metadata": {
  "kernelspec": {
   "display_name": "Python 3 (ipykernel)",
   "language": "python",
   "name": "python3"
  },
  "language_info": {
   "codemirror_mode": {
    "name": "ipython",
    "version": 3
   },
   "file_extension": ".py",
   "mimetype": "text/x-python",
   "name": "python",
   "nbconvert_exporter": "python",
   "pygments_lexer": "ipython3",
   "version": "3.9.7"
  }
 },
 "nbformat": 4,
 "nbformat_minor": 5
}
